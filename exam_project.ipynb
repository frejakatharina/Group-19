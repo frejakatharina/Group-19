{
 "cells": [
  {
   "cell_type": "markdown",
   "id": "6363fdfa-0573-4a30-9aa3-ecbc9babf471",
   "metadata": {},
   "source": [
    "# Exam Project: Pricing of Electrical Vehicles (EV)"
   ]
  },
  {
   "cell_type": "markdown",
   "id": "fc179cbe-9c90-4671-8d9e-77b1b4ec5f01",
   "metadata": {},
   "source": [
    "### Installation and importation of relevant packages"
   ]
  },
  {
   "cell_type": "code",
   "execution_count": null,
   "id": "4b51de89-28f2-4414-a4df-3fb9d9f31348",
   "metadata": {},
   "outputs": [],
   "source": []
  },
  {
   "cell_type": "markdown",
   "id": "b333dd42-84f7-42ef-b23f-9c1d38e6bf4c",
   "metadata": {},
   "source": [
    "### Web-scraping bilbasen.dk"
   ]
  },
  {
   "cell_type": "code",
   "execution_count": null,
   "id": "ab996646-c2d7-4ad4-88aa-2f6112b7584d",
   "metadata": {},
   "outputs": [],
   "source": [
    "# We start by extracting a list of links to the different EV's that we would like to gain information on.\n",
    "\n"
   ]
  }
 ],
 "metadata": {
  "kernelspec": {
   "display_name": "Python 3 (ipykernel)",
   "language": "python",
   "name": "python3"
  },
  "language_info": {
   "codemirror_mode": {
    "name": "ipython",
    "version": 3
   },
   "file_extension": ".py",
   "mimetype": "text/x-python",
   "name": "python",
   "nbconvert_exporter": "python",
   "pygments_lexer": "ipython3",
   "version": "3.9.7"
  }
 },
 "nbformat": 4,
 "nbformat_minor": 5
}
